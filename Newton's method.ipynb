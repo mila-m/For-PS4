{
 "cells": [
  {
   "cell_type": "markdown",
   "metadata": {},
   "source": [
    "### Exercise 8(a)\n",
    "- Fixed point to implement Newton's method"
   ]
  },
  {
   "cell_type": "code",
   "execution_count": 4,
   "metadata": {},
   "outputs": [
    {
     "data": {
      "text/plain": [
       "fixedpointmap (generic function with 3 methods)"
      ]
     },
     "execution_count": 4,
     "metadata": {},
     "output_type": "execute_result"
    }
   ],
   "source": [
    "using LinearAlgebra\n",
    "function fixedpointmap(x_0, f, f_prime,tolerance = 1.0E-8, maxiter=1000)\n",
    "normdiff = Inf\n",
    "iter = 1\n",
    "x_old=x_0\n",
    "      while normdiff>tolerance && iter<= maxiter\n",
    "        x_new = x_old -f(x_old)/f_prime(x_old)\n",
    "        normdiff =norm(x_new-x_old)\n",
    "        x_old=x_new\n",
    "        iter+=1\n",
    "    end\n",
    "       return(value = x_old,normdiff=normdiff, iter=iter  )\n",
    "    end"
   ]
  },
  {
   "cell_type": "code",
   "execution_count": 5,
   "metadata": {},
   "outputs": [
    {
     "name": "stdout",
     "output_type": "stream",
     "text": [
      "Fixed point = 0.9999999821357577, and |f(x) - x| = 8.932121153826245e-9 in 45 iterations\n"
     ]
    }
   ],
   "source": [
    "x_0 = 0.0\n",
    "f(x)=(x-1)^(3)\n",
    "f_prime(x) = 3*(x-1)^2\n",
    "sol = fixedpointmap(x_0, f, f_prime)\n",
    "println(\"Fixed point = $(sol.value), and |f(x) - x| = $(sol.normdiff) in $(sol.iter) iterations\")"
   ]
  },
  {
   "cell_type": "code",
   "execution_count": 6,
   "metadata": {},
   "outputs": [
    {
     "name": "stdout",
     "output_type": "stream",
     "text": [
      "Fixed point = 2.0, and |f(x) - x| = 2.984279490192421e-11 in 10 iterations\n"
     ]
    }
   ],
   "source": [
    "x_0 = 0.1\n",
    "f(x)=2*x^2-8\n",
    "f_prime(x) = 4*x\n",
    "sol = fixedpointmap(x_0, f, f_prime)\n",
    "println(\"Fixed point = $(sol.value), and |f(x) - x| = $(sol.normdiff) in $(sol.iter) iterations\")"
   ]
  },
  {
   "cell_type": "markdown",
   "metadata": {},
   "source": [
    "### Exercise 8(b)\n",
    "- Fixed point to implement Newton's method with auto-differentiation"
   ]
  },
  {
   "cell_type": "code",
   "execution_count": 8,
   "metadata": {},
   "outputs": [
    {
     "data": {
      "text/plain": [
       "fixedpointmap (generic function with 4 methods)"
      ]
     },
     "execution_count": 8,
     "metadata": {},
     "output_type": "execute_result"
    }
   ],
   "source": [
    "using ForwardDiff\n",
    "function fixedpointmap(f, x_0, tolerance= 1.0E-8, maxiter= 1000)\n",
    "normdiff = Inf\n",
    "iter = 1\n",
    "x_old=x_0\n",
    "fprime(x) = ForwardDiff.derivative(f, x)\n",
    "      while normdiff>tolerance && iter<= maxiter\n",
    "        x_new = x_old -f(x_old)/f_prime(x_old)\n",
    "        normdiff =norm(x_new-x_old)\n",
    "        x_old=x_new\n",
    "        iter+=1\n",
    "    end\n",
    "      return(value = x_old,normdiff=normdiff, iter=iter  )\n",
    "    end"
   ]
  },
  {
   "cell_type": "code",
   "execution_count": 9,
   "metadata": {},
   "outputs": [
    {
     "name": "stdout",
     "output_type": "stream",
     "text": [
      "Fixed point = 2.0, and |f(x) - x| = 2.984279490192421e-11 in 10 iterations\n"
     ]
    }
   ],
   "source": [
    "x_0 = 0.1\n",
    "f(x)=2*x^2-8\n",
    "sol = fixedpointmap(f, x_0)\n",
    "println(\"Fixed point = $(sol.value), and |f(x) - x| = $(sol.normdiff) in $(sol.iter) iterations\")"
   ]
  },
  {
   "cell_type": "code",
   "execution_count": null,
   "metadata": {},
   "outputs": [],
   "source": []
  }
 ],
 "metadata": {
  "kernelspec": {
   "display_name": "Julia 1.2.0",
   "language": "julia",
   "name": "julia-1.2"
  },
  "language_info": {
   "file_extension": ".jl",
   "mimetype": "application/julia",
   "name": "julia",
   "version": "1.2.0"
  }
 },
 "nbformat": 4,
 "nbformat_minor": 4
}
